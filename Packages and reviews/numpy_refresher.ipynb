{
 "cells": [
  {
   "cell_type": "code",
   "execution_count": 2,
   "metadata": {},
   "outputs": [
    {
     "name": "stdout",
     "output_type": "stream",
     "text": [
      "[1 2 3 4]\n",
      "(3, 3)\n",
      "[[[5 5 5 5]\n",
      "  [5 5 5 5]\n",
      "  [5 5 5 5]]\n",
      "\n",
      " [[5 5 5 5]\n",
      "  [5 5 5 5]\n",
      "  [5 5 5 5]]]\n",
      "[[[0. 0. 0. 0.]\n",
      "  [0. 0. 0. 0.]\n",
      "  [0. 0. 0. 0.]\n",
      "  [0. 0. 0. 0.]\n",
      "  [0. 0. 0. 0.]\n",
      "  [0. 0. 0. 0.]]\n",
      "\n",
      " [[0. 0. 0. 0.]\n",
      "  [0. 0. 0. 0.]\n",
      "  [0. 0. 0. 0.]\n",
      "  [0. 0. 0. 0.]\n",
      "  [0. 0. 0. 0.]\n",
      "  [0. 0. 0. 0.]]\n",
      "\n",
      " [[0. 0. 0. 0.]\n",
      "  [0. 0. 0. 0.]\n",
      "  [0. 0. 0. 0.]\n",
      "  [0. 0. 0. 0.]\n",
      "  [0. 0. 0. 0.]\n",
      "  [0. 0. 0. 0.]]\n",
      "\n",
      " [[0. 0. 0. 0.]\n",
      "  [0. 0. 0. 0.]\n",
      "  [0. 0. 0. 0.]\n",
      "  [0. 0. 0. 0.]\n",
      "  [0. 0. 0. 0.]\n",
      "  [0. 0. 0. 0.]]\n",
      "\n",
      " [[0. 0. 0. 0.]\n",
      "  [0. 0. 0. 0.]\n",
      "  [0. 0. 0. 0.]\n",
      "  [0. 0. 0. 0.]\n",
      "  [0. 0. 0. 0.]\n",
      "  [0. 0. 0. 0.]]]\n",
      "[ 0  3  6  9 12 15 18]\n",
      "[ 0.          0.1010101   0.2020202   0.3030303   0.4040404   0.50505051\n",
      "  0.60606061  0.70707071  0.80808081  0.90909091  1.01010101  1.11111111\n",
      "  1.21212121  1.31313131  1.41414141  1.51515152  1.61616162  1.71717172\n",
      "  1.81818182  1.91919192  2.02020202  2.12121212  2.22222222  2.32323232\n",
      "  2.42424242  2.52525253  2.62626263  2.72727273  2.82828283  2.92929293\n",
      "  3.03030303  3.13131313  3.23232323  3.33333333  3.43434343  3.53535354\n",
      "  3.63636364  3.73737374  3.83838384  3.93939394  4.04040404  4.14141414\n",
      "  4.24242424  4.34343434  4.44444444  4.54545455  4.64646465  4.74747475\n",
      "  4.84848485  4.94949495  5.05050505  5.15151515  5.25252525  5.35353535\n",
      "  5.45454545  5.55555556  5.65656566  5.75757576  5.85858586  5.95959596\n",
      "  6.06060606  6.16161616  6.26262626  6.36363636  6.46464646  6.56565657\n",
      "  6.66666667  6.76767677  6.86868687  6.96969697  7.07070707  7.17171717\n",
      "  7.27272727  7.37373737  7.47474747  7.57575758  7.67676768  7.77777778\n",
      "  7.87878788  7.97979798  8.08080808  8.18181818  8.28282828  8.38383838\n",
      "  8.48484848  8.58585859  8.68686869  8.78787879  8.88888889  8.98989899\n",
      "  9.09090909  9.19191919  9.29292929  9.39393939  9.49494949  9.5959596\n",
      "  9.6969697   9.7979798   9.8989899  10.        ]\n",
      "nan\n",
      "inf\n",
      "True\n",
      "list1*5 = [1, 2, 3, 4, 1, 2, 3, 4, 1, 2, 3, 4, 1, 2, 3, 4, 1, 2, 3, 4]\n",
      "np_array5*5 = [ 5 10 15 20]\n",
      "np_array5+5 = [6 7 8 9]\n"
     ]
    }
   ],
   "source": [
    "import numpy as np \n",
    "\n",
    "np_array1 = np.array([1,2,3,4])\n",
    "print(np_array1)\n",
    "\n",
    "np_array1[:]\n",
    "\n",
    "np_array1[0:2]\n",
    "\n",
    "np_array1[1] = 100\n",
    "\n",
    "\n",
    "np_mul_array1 = np.array([[1,2,3],\n",
    "[2,3,4],\n",
    "[3,4,5]])\n",
    "\n",
    "print(np_mul_array1.shape)\n",
    "np_mul_array1[0]\n",
    "\n",
    "np_mul_array2 = np.array([[1,2,3], [2,3,5]], dtype= 'float32')\n",
    "\n",
    "\n",
    "\n",
    "#filling array\n",
    "np_array2 = np.full((2,3,4), 5)\n",
    "print(np_array2)\n",
    "\n",
    "np_array3 = np.zeros((5,6,4))\n",
    "print(np_array3)\n",
    "\n",
    "np_array_empty = np.empty((3,3,3))\n",
    "\n",
    "#generate a sequence of values\n",
    "np_range = np.arange(0,20,3)\n",
    "print(np_range)\n",
    "np_linspace = np.linspace(0,10, 100)\n",
    "print(np_linspace)\n",
    "\n",
    "\n",
    "#nan and inf\n",
    "print(np.nan) #not a number value\n",
    "print(np.inf) #infinity value type\n",
    "\n",
    "print(np.isnan(np.nan))\n",
    "\n",
    "#from python list to np array\n",
    "\n",
    "list1 = [1,2,3,4]\n",
    "list2= [3,4,5,6]\n",
    "\n",
    "np_array4 = np.array(list1)\n",
    "np_array5 = np.array(list2)\n",
    "\n",
    "print(f'list1*5 = {list1*5}')\n",
    "print(f'np_array5*5 = {np_array4*5}')\n",
    "\n",
    "\n",
    "#print(f'list1+5 = {list1+5}')\n",
    "print(f'np_array5+5 = {np_array4+5}')\n",
    "\n"
   ]
  },
  {
   "cell_type": "code",
   "execution_count": 4,
   "metadata": {},
   "outputs": [
    {
     "name": "stdout",
     "output_type": "stream",
     "text": [
      "[[1 2]\n",
      " [3 4]\n",
      " [5 6]\n",
      " [7 8]]\n",
      "[[1 2 5 6]\n",
      " [3 4 7 8]]\n",
      "\n",
      "Column stacking:\n",
      " [[1 2 5]\n",
      " [3 4 6]]\n",
      "\n",
      "Concatenating to 2nd axis:\n",
      " [[1 2 5 6]\n",
      " [3 4 7 8]]\n"
     ]
    }
   ],
   "source": [
    "#stacking array in numpy\n",
    "a = np.array([[1, 2], \n",
    "\t\t\t[3, 4]]) \n",
    "\n",
    "b = np.array([[5, 6], \n",
    "\t\t\t[7, 8]]) \n",
    "\n",
    "# vertical stacking \n",
    "print( np.vstack((a, b))) \n",
    "\n",
    "# horizontal stacking \n",
    "print( np.hstack((a, b))) \n",
    "\n",
    "c = [5, 6] \n",
    "\n",
    "# stacking columns \n",
    "print(\"\\nColumn stacking:\\n\", np.column_stack((a, c))) \n",
    "\n",
    "# concatenation method \n",
    "print(\"\\nConcatenating to 2nd axis:\\n\", np.concatenate((a, b), 1)) \n"
   ]
  },
  {
   "cell_type": "code",
   "execution_count": 5,
   "metadata": {},
   "outputs": [
    {
     "name": "stdout",
     "output_type": "stream",
     "text": [
      "[array([[1, 3, 5],\n",
      "       [2, 4, 6]]), array([[ 7,  9, 11],\n",
      "       [ 8, 10, 12]])]\n",
      "[array([[ 1,  3,  5,  7,  9, 11]]), array([[ 2,  4,  6,  8, 10, 12]])]\n"
     ]
    }
   ],
   "source": [
    "#spliting np array\n",
    "a = np.array([[1, 3, 5, 7, 9, 11], \n",
    "\t\t\t[2, 4, 6, 8, 10, 12]]) \n",
    "\n",
    "# horizontal  \n",
    "print(np.hsplit(a, 2)) \n",
    "\n",
    "# vertical  \n",
    "print( np.vsplit(a, 2))\n"
   ]
  },
  {
   "cell_type": "code",
   "execution_count": 7,
   "metadata": {},
   "outputs": [
    {
     "name": "stdout",
     "output_type": "stream",
     "text": [
      "Array: [ 1  2  3  4  5  6  7  8  9 10 11 12 13 14 15 16]\n",
      "First Reshaped Array:\n",
      "[[ 1  2  3  4]\n",
      " [ 5  6  7  8]\n",
      " [ 9 10 11 12]\n",
      " [13 14 15 16]]\n",
      "\n",
      "Second Reshaped Array:\n",
      "[[ 1  2  3  4  5  6  7  8]\n",
      " [ 9 10 11 12 13 14 15 16]]\n"
     ]
    }
   ],
   "source": [
    "# creating a numpy array \n",
    "array = np.array([1, 2, 3, 4, 5, 6, 7, 8, 9, 10, 11, 12, 13, 14, 15, 16]) \n",
    "\n",
    "# printing array \n",
    "print(\"Array: \" + str(array)) \n",
    "\n",
    "# reshaping numpy array \n",
    "# converting it to 2-D from 1-D array \n",
    "reshaped1 = array.reshape((4, array.size//4)) \n",
    "\n",
    "# printing reshaped array \n",
    "print(\"First Reshaped Array:\") \n",
    "print(reshaped1) \n",
    "\n",
    "# creating another reshaped array \n",
    "reshaped2 = np.reshape(array, (2, 8)) \n",
    "\n",
    "# printing reshaped array \n",
    "print(\"\\nSecond Reshaped Array:\") \n",
    "print(reshaped2)\n"
   ]
  },
  {
   "cell_type": "code",
   "execution_count": 8,
   "metadata": {},
   "outputs": [
    {
     "name": "stdout",
     "output_type": "stream",
     "text": [
      "[1 2 3 4 5 6 7 8]\n"
     ]
    }
   ],
   "source": [
    "# Flatening numpy array \n",
    "list_1 = [1, 2, 3, 4] \n",
    "list_2 = [5, 6, 7, 8] \n",
    "arr = np.array([list_1, list_2]) \n",
    "\n",
    "print(arr.flatten())\n"
   ]
  },
  {
   "cell_type": "code",
   "execution_count": 9,
   "metadata": {},
   "outputs": [
    {
     "name": "stdout",
     "output_type": "stream",
     "text": [
      "id of arr: 1230132905712\n",
      "id of c: 1230132908784\n",
      "original array: [[12 12 12 12]\n",
      " [ 5  6  7  8]]\n",
      "copy: [[1 2 3 4]\n",
      " [5 6 7 8]]\n"
     ]
    }
   ],
   "source": [
    "# Creating a different copy of NumPy \n",
    "# array creating copy of array \n",
    "c = arr.copy() \n",
    "\t\n",
    "# both arr and c have different id \n",
    "print(\"id of arr:\", id(arr)) \n",
    "print(\"id of c:\", id(c)) \n",
    "\t\n",
    "# changing original array \n",
    "# this will not effect copy \n",
    "arr[0] = 12\n",
    "\t\n",
    "# printing array and copy \n",
    "print(\"original array:\", arr) \n",
    "print(\"copy:\", c)\n"
   ]
  },
  {
   "cell_type": "code",
   "execution_count": 10,
   "metadata": {},
   "outputs": [
    {
     "name": "stdout",
     "output_type": "stream",
     "text": [
      "id of arr: 1230132905712\n",
      "id of v: 1230132907344\n",
      "original array: [[12 12 12 12]\n",
      " [ 5  6  7  8]]\n",
      "view: [[12 12 12 12]\n",
      " [ 5  6  7  8]]\n"
     ]
    }
   ],
   "source": [
    "# Creating a view of a \n",
    "# NumPy array \n",
    "# creating view \n",
    "v = arr.view() \n",
    "\t\n",
    "# both arr and v have different id \n",
    "print(\"id of arr:\", id(arr)) \n",
    "print(\"id of v:\", id(v)) \n",
    "\t\n",
    "# changing original array \n",
    "# will effect view \n",
    "arr[0] = 12\n",
    "\t\n",
    "# printing array and view \n",
    "print(\"original array:\", arr) \n",
    "print(\"view:\", v)\n"
   ]
  },
  {
   "cell_type": "code",
   "execution_count": null,
   "metadata": {},
   "outputs": [],
   "source": [
    "    "
   ]
  }
 ],
 "metadata": {
  "kernelspec": {
   "display_name": "base",
   "language": "python",
   "name": "python3"
  },
  "language_info": {
   "codemirror_mode": {
    "name": "ipython",
    "version": 3
   },
   "file_extension": ".py",
   "mimetype": "text/x-python",
   "name": "python",
   "nbconvert_exporter": "python",
   "pygments_lexer": "ipython3",
   "version": "3.10.9"
  }
 },
 "nbformat": 4,
 "nbformat_minor": 2
}
